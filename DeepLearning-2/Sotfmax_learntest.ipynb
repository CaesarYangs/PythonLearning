{
 "cells": [
  {
   "cell_type": "code",
   "execution_count": 2,
   "id": "5a5bb2d7",
   "metadata": {},
   "outputs": [],
   "source": [
    "import numpy as np\n",
    "from keras.datasets import mnist"
   ]
  },
  {
   "cell_type": "code",
   "execution_count": 3,
   "id": "9eb71feb",
   "metadata": {},
   "outputs": [],
   "source": [
    "#加载mnist数据集\n",
    "(x_train,y_train),(x_test,y_test) = mnist.load_data()"
   ]
  },
  {
   "cell_type": "code",
   "execution_count": 4,
   "id": "b14a870f",
   "metadata": {},
   "outputs": [],
   "source": [
    "#one hot encoding\n",
    "def one_hot_encoding(labels,n_classes):\n",
    "    result = np.eye(n_classes)[labels]\n",
    "    return result"
   ]
  },
  {
   "cell_type": "code",
   "execution_count": 5,
   "id": "cfba0569",
   "metadata": {},
   "outputs": [],
   "source": [
    "#统计样本个数\n",
    "n_train = x_train.shape[0]\n",
    "n_test = x_test.shape[0]"
   ]
  },
  {
   "cell_type": "code",
   "execution_count": 6,
   "id": "5be1b99d",
   "metadata": {},
   "outputs": [],
   "source": [
    "#n_classes表示数据集中的标签种类\n",
    "n_classes = 10\n",
    "#扁平化后图像长度信息\n",
    "flatten_size = 28*28"
   ]
  },
  {
   "cell_type": "code",
   "execution_count": 7,
   "id": "08351b18",
   "metadata": {},
   "outputs": [],
   "source": [
    "#训练集元素进行归一化处理\n",
    "x_train = x_train/255\n",
    "#对图片进行扁平化处理\n",
    "x_train = x_train.reshape((n_train,flatten_size))\n",
    "#对标签进行one-hot编码\n",
    "y_train = one_hot_encoding(y_train,n_classes)"
   ]
  },
  {
   "cell_type": "code",
   "execution_count": 9,
   "id": "9f099235",
   "metadata": {},
   "outputs": [],
   "source": [
    "#对测试集元素进行相同操作\n",
    "x_test = x_test/255\n",
    "x_test = x_test.reshape((n_test,flatten_size))\n",
    "y_test = one_hot_encoding(y_test,n_classes)"
   ]
  },
  {
   "cell_type": "code",
   "execution_count": null,
   "id": "95ab334e",
   "metadata": {},
   "outputs": [],
   "source": []
  }
 ],
 "metadata": {
  "kernelspec": {
   "display_name": "Python 3",
   "language": "python",
   "name": "python3"
  },
  "language_info": {
   "codemirror_mode": {
    "name": "ipython",
    "version": 3
   },
   "file_extension": ".py",
   "mimetype": "text/x-python",
   "name": "python",
   "nbconvert_exporter": "python",
   "pygments_lexer": "ipython3",
   "version": "3.8.8"
  }
 },
 "nbformat": 4,
 "nbformat_minor": 5
}
