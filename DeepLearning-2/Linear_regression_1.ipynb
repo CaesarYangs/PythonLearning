{
 "cells": [
  {
   "cell_type": "code",
   "execution_count": 1,
   "id": "f9a9c956",
   "metadata": {},
   "outputs": [],
   "source": [
    "import numpy as np\n",
    "import matplotlib.pyplot as plt"
   ]
  },
  {
   "cell_type": "code",
   "execution_count": 2,
   "id": "d3504661",
   "metadata": {},
   "outputs": [],
   "source": [
    "def function(x):\n",
    "    return x**2 + 1"
   ]
  },
  {
   "cell_type": "code",
   "execution_count": 38,
   "id": "7cd635b9",
   "metadata": {},
   "outputs": [],
   "source": [
    "epoch = 500\n",
    "lr = 0.1\n",
    "xi = -18"
   ]
  },
  {
   "cell_type": "code",
   "execution_count": 39,
   "id": "73a8f955",
   "metadata": {},
   "outputs": [],
   "source": [
    "def get_gradient(x):\n",
    "    return 2*x"
   ]
  },
  {
   "cell_type": "code",
   "execution_count": 40,
   "id": "835f4aaa",
   "metadata": {},
   "outputs": [],
   "source": [
    "tri = []"
   ]
  },
  {
   "cell_type": "code",
   "execution_count": 41,
   "id": "cf051477",
   "metadata": {},
   "outputs": [],
   "source": [
    "for i in range(epoch):\n",
    "    tri.append(xi)\n",
    "    xi = xi - lr*get_gradient(xi)\n",
    "result = xi"
   ]
  },
  {
   "cell_type": "code",
   "execution_count": 43,
   "id": "340eef7c",
   "metadata": {},
   "outputs": [
    {
     "data": {
      "image/png": "[encoded data removed]",
      "text/plain": [
       "<Figure size 432x288 with 1 Axes>"
      ]
     },
     "metadata": {
      "needs_background": "light"
     },
     "output_type": "display_data"
    }
   ],
   "source": [
    "x = np.arange(-20,20,0.1)\n",
    "y = function(x)\n",
    "x_tr = np.array(tri)\n",
    "y_tr = []\n",
    "y_tr = function(x_tr)\n",
    "#for i in range(len(tri)):\n",
    "#    y_tr.append(function(tri[i]))\n",
    "plt.scatter(x_tr,y_tr)\n",
    "plt.show()"
   ]
  }
 ],
 "metadata": {
  "kernelspec": {
   "display_name": "Python 3",
   "language": "python",
   "name": "python3"
  },
  "language_info": {
   "codemirror_mode": {
    "name": "ipython",
    "version": 3
   },
   "file_extension": ".py",
   "mimetype": "text/x-python",
   "name": "python",
   "nbconvert_exporter": "python",
   "pygments_lexer": "ipython3",
   "version": "3.8.8"
  }
 },
 "nbformat": 4,
 "nbformat_minor": 5
}
