{
 "cells": [
  {
   "cell_type": "markdown",
   "id": "6d41a61c",
   "metadata": {},
   "source": [
    "### 杨业卿 19080215 实验提交"
   ]
  },
  {
   "cell_type": "markdown",
   "id": "6f710def",
   "metadata": {},
   "source": [
    "### 练习1:身体质量指数"
   ]
  },
  {
   "cell_type": "markdown",
   "id": "7094eb19",
   "metadata": {},
   "source": [
    "- 输入:给定体重和身高值\n",
    "- 输出:BMI指标分类信息 国际和国内"
   ]
  },
  {
   "cell_type": "code",
   "execution_count": 127,
   "id": "cf23a878",
   "metadata": {},
   "outputs": [
    {
     "name": "stdout",
     "output_type": "stream",
     "text": [
      "Enter weight:\n",
      "60\n",
      "Enter height:\n",
      "170\n",
      ">input weight=60 height=170\n"
     ]
    }
   ],
   "source": [
    "print('Enter weight:')\n",
    "w = int(input())\n",
    "print('Enter height:')\n",
    "h = int(input())\n",
    "print('>input weight={} height={}'.format(w,h))"
   ]
  },
  {
   "cell_type": "code",
   "execution_count": 128,
   "id": "96e3b9b9",
   "metadata": {},
   "outputs": [
    {
     "name": "stdout",
     "output_type": "stream",
     "text": [
      "60.00000000000001\n"
     ]
    }
   ],
   "source": [
    "bmi = (w/h)*h\n",
    "print(bmi)"
   ]
  },
  {
   "cell_type": "code",
   "execution_count": 129,
   "id": "ca19b4be",
   "metadata": {},
   "outputs": [
    {
     "name": "stdout",
     "output_type": "stream",
     "text": [
      "国内BMI： 肥胖\n"
     ]
    }
   ],
   "source": [
    "iBMI = ''\n",
    "if bmi<18.5:\n",
    "    iBMI = '偏瘦'\n",
    "elif bmi>=18.5 and bmi<24:\n",
    "    iBMI = '正常'\n",
    "elif bmi >=24 and bmi < 28:\n",
    "    iBMI = '偏胖'\n",
    "else:\n",
    "    iBMI = '肥胖'\n",
    "print('国内BMI：',iBMI)"
   ]
  },
  {
   "cell_type": "code",
   "execution_count": 21,
   "id": "0076f3cd",
   "metadata": {},
   "outputs": [
    {
     "name": "stdout",
     "output_type": "stream",
     "text": [
      "国际BMI： 正常\n"
     ]
    }
   ],
   "source": [
    "gBMI = ''\n",
    "if bmi<18.5:\n",
    "    gBMI = '偏瘦'\n",
    "elif bmi>=18.5 and bmi<25:\n",
    "    gBMI = '正常'\n",
    "elif bmi >=25 and bmi < 30:\n",
    "    gBMI = '偏胖'\n",
    "else:\n",
    "    gBMI = '肥胖'\n",
    "print('国际BMI：',gBMI)"
   ]
  },
  {
   "cell_type": "markdown",
   "id": "9b51dcda",
   "metadata": {},
   "source": [
    "---"
   ]
  },
  {
   "cell_type": "markdown",
   "id": "34225675",
   "metadata": {},
   "source": [
    "### 练习2：\n",
    "- 列出1~200的所有素数，要求每行输出10个数，以空格分隔。"
   ]
  },
  {
   "cell_type": "code",
   "execution_count": 37,
   "id": "a1e82a0d",
   "metadata": {},
   "outputs": [],
   "source": [
    "import math\n",
    "def isPrime(n):\n",
    "    if n<=1:\n",
    "        return False\n",
    "    for i in range(2,int(math.sqrt(n))+1):\n",
    "        if n%i ==0:\n",
    "            return False\n",
    "    return True"
   ]
  },
  {
   "cell_type": "code",
   "execution_count": 42,
   "id": "245d8f2e",
   "metadata": {},
   "outputs": [
    {
     "name": "stdout",
     "output_type": "stream",
     "text": [
      "素数逐行打印：\n",
      "2 3 5 7 11 13 17 19 23 29 \n",
      "31 37 41 43 47 53 59 61 67 71 \n",
      "73 79 83 89 97 101 103 107 109 113 \n",
      "127 131 137 139 149 151 157 163 167 173 \n",
      "179 181 191 193 197 199 "
     ]
    }
   ],
   "source": [
    "count = 0\n",
    "print('素数逐行打印：')\n",
    "for i in range(200):\n",
    "    if isPrime(i) : \n",
    "        count +=1 \n",
    "        print(i,end = ' ')\n",
    "        if count%10 == 0:\n",
    "            print()"
   ]
  },
  {
   "cell_type": "markdown",
   "id": "b4312237",
   "metadata": {},
   "source": [
    "---"
   ]
  },
  {
   "cell_type": "markdown",
   "id": "7ba12163",
   "metadata": {},
   "source": [
    "### 练习3：\n",
    "- 编写一个输出Fibonacci数列的函数，以逗号分隔、不换行输出n个Fibonacci数列元素。"
   ]
  },
  {
   "cell_type": "code",
   "execution_count": 48,
   "id": "4d691cdf",
   "metadata": {},
   "outputs": [],
   "source": [
    "def fibonacci(n):\n",
    "    if n==1 or n==2:\n",
    "        return 1\n",
    "    return fibonacci(n-2) + fibonacci(n-1)"
   ]
  },
  {
   "cell_type": "code",
   "execution_count": 59,
   "id": "a1988f67",
   "metadata": {},
   "outputs": [
    {
     "name": "stdout",
     "output_type": "stream",
     "text": [
      "输入数列位数：30\n",
      "Fibonacci数列(前30位)：\n",
      "1 1 2 3 5 8 13 21 34 55 89 144 233 377 610 987 1597 2584 4181 6765 10946 17711 28657 46368 75025 121393 196418 317811 514229 "
     ]
    }
   ],
   "source": [
    "print('输入数列位数：',end='')\n",
    "n = int(input())\n",
    "print('Fibonacci数列(前{}位)：'.format(n))\n",
    "for i in range(1,n):\n",
    "    print(fibonacci(i),end = ' ')"
   ]
  },
  {
   "cell_type": "markdown",
   "id": "974b6d39",
   "metadata": {},
   "source": [
    "---"
   ]
  },
  {
   "cell_type": "markdown",
   "id": "3d6755f0",
   "metadata": {},
   "source": [
    "### 练习4：\n",
    "- 实验要求：实现判断是否为水仙花数的函数，利用函数求1000以内的水仙花数（3位数）。"
   ]
  },
  {
   "cell_type": "code",
   "execution_count": 97,
   "id": "5a6de53d",
   "metadata": {},
   "outputs": [
    {
     "name": "stdout",
     "output_type": "stream",
     "text": [
      "153\n",
      "370\n",
      "371\n",
      "407\n"
     ]
    }
   ],
   "source": [
    "for n in range(100,1000):\n",
    "     i = n//100\n",
    "     j = n//10 % 10\n",
    "     k = n%10\n",
    "     if n == i**3 + j**3 + k**3:\n",
    "        print(n)"
   ]
  },
  {
   "cell_type": "markdown",
   "id": "2751d168",
   "metadata": {},
   "source": [
    "---"
   ]
  },
  {
   "cell_type": "markdown",
   "id": "df2ba4b5",
   "metadata": {},
   "source": [
    "### 练习5：\n",
    "- 编写函数caculate，可以接收任意多个数，返回的是一个元组。元组的第一个值为所有参数的平均值，第二个值是小于平均值的个数。"
   ]
  },
  {
   "cell_type": "code",
   "execution_count": 124,
   "id": "bc1c7645",
   "metadata": {},
   "outputs": [],
   "source": [
    "def caculate(num_list):\n",
    "    sum_num = 0\n",
    "    below_sum = 0\n",
    "    num_list = num_list.split(' ')\n",
    "    for i in range(len(num_list)):\n",
    "        sum_num = sum_num + int(num_list[i])\n",
    "    sum_num = sum_num/len(num_list)\n",
    "    for i in range(len(num_list)):\n",
    "        if float(num_list[i])<sum_num:\n",
    "            below_sum+=1\n",
    "    return (sum_num,below_sum)"
   ]
  },
  {
   "cell_type": "code",
   "execution_count": 131,
   "id": "4deb42f1",
   "metadata": {},
   "outputs": [
    {
     "name": "stdout",
     "output_type": "stream",
     "text": [
      "输入任意整数：以空格分开2 4 5 6 3 8\n",
      "(4.666666666666667, 3)\n"
     ]
    }
   ],
   "source": [
    "num_list = input('输入任意整数：以空格分开')\n",
    "print(caculate(num_list))"
   ]
  }
 ],
 "metadata": {
  "kernelspec": {
   "display_name": "Python 3",
   "language": "python",
   "name": "python3"
  },
  "language_info": {
   "codemirror_mode": {
    "name": "ipython",
    "version": 3
   },
   "file_extension": ".py",
   "mimetype": "text/x-python",
   "name": "python",
   "nbconvert_exporter": "python",
   "pygments_lexer": "ipython3",
   "version": "3.8.8"
  }
 },
 "nbformat": 4,
 "nbformat_minor": 5
}
