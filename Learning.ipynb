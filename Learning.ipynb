{
 "cells": [
  {
   "cell_type": "markdown",
   "id": "75ff07ea",
   "metadata": {},
   "source": [
    "# 1.1 将序列分解为单独的变量"
   ]
  },
  {
   "cell_type": "code",
   "execution_count": 6,
   "id": "0fd0fa69",
   "metadata": {},
   "outputs": [],
   "source": [
    "p = [2,4,6,8,0]\n",
    "q = (1,3,5,7,9)"
   ]
  },
  {
   "cell_type": "code",
   "execution_count": 7,
   "id": "45c13c83",
   "metadata": {},
   "outputs": [
    {
     "name": "stdout",
     "output_type": "stream",
     "text": [
      "2\n"
     ]
    }
   ],
   "source": [
    "a,b,c,d,e = p\n",
    "print(a)"
   ]
  },
  {
   "cell_type": "markdown",
   "id": "f81bd703",
   "metadata": {},
   "source": [
    "**只要对象是可迭代的，就可以执行分解操作。 包括字符串，文件对象，迭代器和生成器。**"
   ]
  },
  {
   "cell_type": "code",
   "execution_count": 8,
   "id": "fef815d5",
   "metadata": {},
   "outputs": [
    {
     "name": "stdout",
     "output_type": "stream",
     "text": [
      "H\n"
     ]
    }
   ],
   "source": [
    "s = \"Hello\"\n",
    "s1,s2,s3,s4,s5=s\n",
    "print(s1)"
   ]
  },
  {
   "cell_type": "code",
   "execution_count": 10,
   "id": "e4646394",
   "metadata": {},
   "outputs": [
    {
     "name": "stdout",
     "output_type": "stream",
     "text": [
      "50\n"
     ]
    }
   ],
   "source": [
    "data1_1 = [ 'ACME', 50, 91.1, (2012, 12, 21) ]\n",
    "_,hellos,huadfs,_ =data1_1\n",
    "print(hellos)"
   ]
  },
  {
   "cell_type": "markdown",
   "id": "0560c696",
   "metadata": {},
   "source": [
    "# 1.2 解压可迭代对象赋值给多个变量"
   ]
  },
  {
   "cell_type": "code",
   "execution_count": null,
   "id": "7267a425",
   "metadata": {},
   "outputs": [],
   "source": []
  }
 ],
 "metadata": {
  "kernelspec": {
   "display_name": "Python 3",
   "language": "python",
   "name": "python3"
  },
  "language_info": {
   "codemirror_mode": {
    "name": "ipython",
    "version": 3
   },
   "file_extension": ".py",
   "mimetype": "text/x-python",
   "name": "python",
   "nbconvert_exporter": "python",
   "pygments_lexer": "ipython3",
   "version": "3.8.8"
  }
 },
 "nbformat": 4,
 "nbformat_minor": 5
}
