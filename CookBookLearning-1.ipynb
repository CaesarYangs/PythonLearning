{
 "cells": [
  {
   "cell_type": "markdown",
   "id": "75ff07ea",
   "metadata": {},
   "source": [
    "# 1.1 将序列分解为单独的变量"
   ]
  },
  {
   "cell_type": "code",
   "execution_count": 6,
   "id": "0fd0fa69",
   "metadata": {},
   "outputs": [],
   "source": [
    "p = [2,4,6,8,0]\n",
    "q = (1,3,5,7,9)"
   ]
  },
  {
   "cell_type": "code",
   "execution_count": 7,
   "id": "45c13c83",
   "metadata": {},
   "outputs": [
    {
     "name": "stdout",
     "output_type": "stream",
     "text": [
      "2\n"
     ]
    }
   ],
   "source": [
    "a,b,c,d,e = p\n",
    "print(a)"
   ]
  },
  {
   "cell_type": "markdown",
   "id": "f81bd703",
   "metadata": {},
   "source": [
    "**只要对象是可迭代的，就可以执行分解操作。 包括字符串，文件对象，迭代器和生成器。**"
   ]
  },
  {
   "cell_type": "code",
   "execution_count": 8,
   "id": "fef815d5",
   "metadata": {},
   "outputs": [
    {
     "name": "stdout",
     "output_type": "stream",
     "text": [
      "H\n"
     ]
    }
   ],
   "source": [
    "s = \"Hello\"\n",
    "s1,s2,s3,s4,s5=s\n",
    "print(s1)"
   ]
  },
  {
   "cell_type": "code",
   "execution_count": 10,
   "id": "e4646394",
   "metadata": {},
   "outputs": [
    {
     "name": "stdout",
     "output_type": "stream",
     "text": [
      "50\n"
     ]
    }
   ],
   "source": [
    "data1_1 = [ 'ACME', 50, 91.1, (2012, 12, 21) ]\n",
    "_,hellos,huadfs,_ =data1_1\n",
    "print(hellos)"
   ]
  },
  {
   "cell_type": "markdown",
   "id": "0560c696",
   "metadata": {},
   "source": [
    "# 1.2 解压可迭代对象赋值给多个变量"
   ]
  },
  {
   "cell_type": "code",
   "execution_count": 13,
   "id": "7267a425",
   "metadata": {},
   "outputs": [
    {
     "name": "stdout",
     "output_type": "stream",
     "text": [
      "Dave  dave@example.com  ['773-555-1212', '847-555-1212', '123123123']\n"
     ]
    }
   ],
   "source": [
    "record = ('Dave', 'dave@example.com', '773-555-1212', '847-555-1212','123123123')\n",
    "sec1,sec2,*sec3 = record\n",
    "print(sec1,\"\",sec2,\"\",sec3)"
   ]
  },
  {
   "cell_type": "markdown",
   "id": "536b663e",
   "metadata": {},
   "source": [
    "**保存下来的sec3始终是列表类型，即使没有变量也是列表类型**"
   ]
  },
  {
   "cell_type": "markdown",
   "id": "5107258a",
   "metadata": {},
   "source": [
    "扩展的迭代解压语法是专门为解压不确定个数或任意个数元素的可迭代对象而设计的。 通常，这些可迭代对象的元素结构有确定的规则（比如第 1 个元素后面都是电话号码）， 星号表达式让开发人员可以很容易的利用这些规则来解压出元素来。 而不是通过一些比较复杂的手段去获取这些关联的元素值。\n",
    "\n",
    "值得注意的是，星号表达式在迭代元素为可变长元组的序列时是很有用的。 比如，下面是一个带有标签的元组序列："
   ]
  },
  {
   "cell_type": "code",
   "execution_count": 14,
   "id": "4433b063",
   "metadata": {},
   "outputs": [
    {
     "name": "stdout",
     "output_type": "stream",
     "text": [
      "foo 1 2\n",
      "bar hello\n",
      "foo 3 4\n"
     ]
    }
   ],
   "source": [
    "records = [\n",
    "    ('foo', 1, 2),\n",
    "    ('bar', 'hello'),\n",
    "    ('foo', 3, 4),\n",
    "]\n",
    "\n",
    "def do_foo(x, y):\n",
    "    print('foo', x, y)\n",
    "\n",
    "def do_bar(s):\n",
    "    print('bar', s)\n",
    "\n",
    "for tag, *args in records:\n",
    "    if tag == 'foo':\n",
    "        do_foo(*args)\n",
    "    elif tag == 'bar':\n",
    "        do_bar(*args)"
   ]
  },
  {
   "cell_type": "markdown",
   "id": "54667505",
   "metadata": {},
   "source": [
    "# 1.3 保留最后 N 个元素"
   ]
  },
  {
   "cell_type": "markdown",
   "id": "2d22e0a6",
   "metadata": {},
   "source": [
    "**使用 deque(maxlen=N) 构造函数会新建一个固定大小的队列。当新的元素加入并且这个队列已满的时候， 最老的元素会自动被移除掉。**"
   ]
  },
  {
   "cell_type": "code",
   "execution_count": 18,
   "id": "182a7170",
   "metadata": {},
   "outputs": [
    {
     "name": "stdout",
     "output_type": "stream",
     "text": [
      "deque([1, 2, 3], maxlen=3)\n",
      "deque([2, 3, 4], maxlen=3)\n"
     ]
    }
   ],
   "source": [
    "from collections import deque\n",
    "q = deque(maxlen=3)\n",
    "q.append(1)\n",
    "q.append(2)\n",
    "q.append(3)\n",
    "print(q)\n",
    "q.append(4)\n",
    "print(q)"
   ]
  },
  {
   "cell_type": "markdown",
   "id": "3f4bd543",
   "metadata": {},
   "source": [
    "# 1.4 查找最大或最小的 N 个元素"
   ]
  },
  {
   "cell_type": "markdown",
   "id": "79525fbe",
   "metadata": {},
   "source": [
    "heapq 模块有两个函数：nlargest() 和 nsmallest() 可以完美解决这个问题。"
   ]
  },
  {
   "cell_type": "code",
   "execution_count": 19,
   "id": "a610a086",
   "metadata": {},
   "outputs": [
    {
     "name": "stdout",
     "output_type": "stream",
     "text": [
      "[42]\n"
     ]
    }
   ],
   "source": [
    "import heapq\n",
    "nums = [1, 8, 2, 23, 7, -4, 18, 23, 42, 37, 2]\n",
    "print(heapq.nlargest(1,nums))"
   ]
  },
  {
   "cell_type": "code",
   "execution_count": null,
   "id": "1845aaef",
   "metadata": {},
   "outputs": [],
   "source": []
  }
 ],
 "metadata": {
  "kernelspec": {
   "display_name": "Python 3",
   "language": "python",
   "name": "python3"
  },
  "language_info": {
   "codemirror_mode": {
    "name": "ipython",
    "version": 3
   },
   "file_extension": ".py",
   "mimetype": "text/x-python",
   "name": "python",
   "nbconvert_exporter": "python",
   "pygments_lexer": "ipython3",
   "version": "3.8.8"
  }
 },
 "nbformat": 4,
 "nbformat_minor": 5
}
